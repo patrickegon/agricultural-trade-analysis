{
 "cells": [
  {
   "cell_type": "markdown",
   "metadata": {},
   "source": [
    "# ## Análise Exploratória de Dados de Commodities Agrícolas"
   ]
  },
  {
   "cell_type": "code",
   "execution_count": null,
   "metadata": {},
   "outputs": [],
   "source": [
    "# Configuração inicial\n",
    "import pandas as pd\n",
    "import numpy as np\n",
    "import matplotlib.pyplot as plt\n",
    "import seaborn as sns\n",
    "from scipy import stats\n",
    "\n",
    "plt.style.use('ggplot')\n",
    "plt.rcParams['figure.figsize'] = (12,6)\n",
    "pd.options.display.float_format = '{:,.2f}'.format"
   ]
  },
  {
   "cell_type": "code",
   "execution_count": null,
   "metadata": {},
   "outputs": [],
   "source": [
    "# Carregamento dos dados\n",
    "try:\n",
    "    data = pd.read_csv('/home/boto-cdr/Documentos/portfolio_projects/food_data/fi.csv', encoding='utf-8')\n",
    "    print(\"Dados carregados com sucesso!\")\n",
    "    print(f\"Total de registros: {len(data):,}\")\n",
    "except FileNotFoundError:\n",
    "    print(\"Erro: Verifique o caminho do arquivo e as permissões!\")"
   ]
  },
  {
   "cell_type": "markdown",
   "metadata": {},
   "source": [
    "## Pré-processamento Básico"
   ]
  },
  {
   "cell_type": "code",
   "execution_count": null,
   "metadata": {},
   "outputs": [],
   "source": [
    "# Verificação e limpeza inicial\n",
    "print(\"\\nInformações básicas:\")\n",
    "print(data.info())\n",
    "\n",
    "print(\"\\nValores faltantes por coluna:\")\n",
    "print(data.isnull().sum())\n",
    "\n",
    "# Tratamento de outliers\n",
    "if 'Value' in data.columns:\n",
    "    z_scores = stats.zscore(data[['Value']])\n",
    "    data_clean = data[(np.abs(z_scores) < 3).all(axis=1)]\n",
    "    print(f\"\\nRegistros após remoção de outliers: {len(data_clean):,}\")"
   ]
  },
  {
   "cell_type": "markdown",
   "metadata": {},
   "source": [
    "## Análise Temporal"
   ]
  },
  {
   "cell_type": "code",
   "execution_count": null,
   "metadata": {},
   "outputs": [],
   "source": [
    "# Evolução anual das transações\n",
    "if 'Year Number' in data_clean.columns:\n",
    "    plt.figure(figsize=(14,7))\n",
    "    annual_trend = data_clean.groupby('Year Number')['Value'].sum().reset_index()\n",
    "    \n",
    "    sns.lineplot(data=annual_trend, x='Year Number', y='Value')\n",
    "    plt.title('Evolução Anual do Valor Comercial Total', fontsize=14)\n",
    "    plt.xlabel('Ano', fontsize=12)\n",
    "    plt.ylabel('Valor (Milhões USD)', fontsize=12)\n",
    "    plt.grid(True)\n",
    "    plt.show()"
   ]
  },
  {
   "cell_type": "markdown",
   "metadata": {},
   "source": [
    "## Análise Geográfica"
   ]
  },
  {
   "cell_type": "code",
   "execution_count": null,
   "metadata": {},
   "outputs": [],
   "source": [
    "# Top 15 países por volume comercial\n",
    "if 'Country' in data_clean.columns:\n",
    "    top_countries = data_clean.groupby('Country')['Value'].sum().nlargest(15)\n",
    "    \n",
    "    plt.figure(figsize=(14,8))\n",
    "    sns.barplot(x=top_countries.values, y=top_countries.index, palette='viridis')\n",
    "    plt.title('Top 15 Países por Volume Comercial', fontsize=14)\n",
    "    plt.xlabel('Valor Total (Milhões USD)', fontsize=12)\n",
    "    plt.ylabel('')\n",
    "    plt.show()"
   ]
  },
  {
   "cell_type": "markdown",
   "metadata": {},
   "source": [
    "## Análise de Produtos"
   ]
  },
  {
   "cell_type": "code",
   "execution_count": null,
   "metadata": {},
   "outputs": [],
   "source": [
    "# Distribuição por categoria de commodities\n",
    "if 'Category' in data_clean.columns:\n",
    "    category_dist = data_clean['Category'].value_counts().nlargest(10)\n",
    "    \n",
    "    plt.figure(figsize=(12,8))\n",
    "    sns.barplot(x=category_dist.values, y=category_dist.index, palette='rocket')\n",
    "    plt.title('Distribuição por Categoria de Commodities', fontsize=14)\n",
    "    plt.xlabel('Número de Transações', fontsize=12)\n",
    "    plt.ylabel('Categoria', fontsize=12)\n",
    "    plt.show()"
   ]
  },
  {
   "cell_type": "markdown",
   "metadata": {},
   "source": [
    "## Análise de Preços"
   ]
  },
  {
   "cell_type": "code",
   "execution_count": null,
   "metadata": {},
   "outputs": [],
   "source": [
    "# Relação valor-quantidade\n",
    "if {'Value', 'Unit of Measure'}.issubset(data_clean.columns):\n",
    "    price_quantity = data_clean[data_clean['Unit of Measure'].isin(['Million $', '1,000'])]\n",
    "    price_quantity = price_quantity.pivot_table(index=['Commodity','Country'], \n",
    "                                              columns='Unit of Measure', \n",
    "                                              values='Value').reset_index()\n",
    "\n",
    "    plt.figure(figsize=(14,10))\n",
    "    sns.scatterplot(data=price_quantity.dropna(), \n",
    "                   x='1,000', \n",
    "                   y='Million $', \n",
    "                   hue='Commodity',\n",
    "                   size='Million $',\n",
    "                   sizes=(20, 200))\n",
    "    plt.title('Relação entre Volume e Valor Comercial', fontsize=14)\n",
    "    plt.xlabel('Quantidade (1,000 unidades)', fontsize=12)\n",
    "    plt.ylabel('Valor (Milhões USD)', fontsize=12)\n",
    "    plt.xscale('log')\n",
    "    plt.legend(bbox_to_anchor=(1.05, 1), loc='upper left')\n",
    "    plt.tight_layout()\n",
    "    plt.show()"
   ]
  },
  {
   "cell_type": "markdown",
   "metadata": {},
   "source": [
    "## Análise de Concentração de Mercado"
   ]
  },
  {
   "cell_type": "code",
   "execution_count": null,
   "metadata": {},
   "outputs": [],
   "source": [
    "# Índice HHI simplificado\n",
    "def calculate_hhi(df):\n",
    "    market_shares = df.groupby('Country')['Value'].sum()\n",
    "    return (market_shares**2).sum() / (market_shares.sum()**2) * 10000\n",
    "\n",
    "if 'Country' in data_clean.columns:\n",
    "    hhi = data_clean.groupby('Year Number').apply(calculate_hhi).reset_index(name='HHI')\n",
    "    \n",
    "    plt.figure(figsize=(14,7))\n",
    "    sns.lineplot(data=hhi, x='Year Number', y='HHI', marker='o')\n",
    "    plt.axhline(1500, color='red', linestyle='--', label='Mercado Concentrado')\n",
    "    plt.axhline(2500, color='darkred', linestyle='--', label='Monopólio/Oligopólio')\n",
    "    plt.title('Índice de Concentração de Mercado (HHI)', fontsize=14)\n",
    "    plt.ylabel('HHI Score', fontsize=12)\n",
    "    plt.legend()\n",
    "    plt.show()"
   ]
  },
  {
   "cell_type": "markdown",
   "metadata": {},
   "source": [
    "## Análise Setorial Detalhada"
   ]
  },
  {
   "cell_type": "code",
   "execution_count": null,
   "metadata": {},
   "outputs": [],
   "source": [
    "# Top 5 commodities\n",
    "if 'Commodity' in data_clean.columns:\n",
    "    top_commodities = data_clean['Commodity'].value_counts().nlargest(5).index\n",
    "    \n",
    "    for commodity in top_commodities:\n",
    "        plt.figure(figsize=(14,6))\n",
    "        subset = data_clean[data_clean['Commodity'] == commodity]\n",
    "        sns.lineplot(data=subset, x='Year Number', y='Value', estimator='sum')\n",
    "        plt.title(f'Evolução de {commodity}', fontsize=14)\n",
    "        plt.xlabel('Ano', fontsize=12)\n",
    "        plt.ylabel('Valor (Milhões USD)', fontsize=12)\n",
    "        plt.show()"
   ]
  }
 ],
 "metadata": {
  "kernelspec": {
   "display_name": "Python 3",
   "language": "python",
   "name": "python3"
  },
  "language_info": {
   "codemirror_mode": {
    "name": "ipython",
    "version": 3
   },
   "file_extension": ".py",
   "mimetype": "text/x-python",
   "name": "python",
   "nbconvert_exporter": "python",
   "pygments_lexer": "ipython3",
   "version": "3.10.12"
  }
 },
 "nbformat": 4,
 "nbformat_minor": 2
}
